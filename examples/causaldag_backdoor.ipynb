{
 "cells": [
  {
   "cell_type": "code",
   "execution_count": 4,
   "metadata": {
    "collapsed": false
   },
   "outputs": [],
   "source": [
    "from causaldag import CausalDAG"
   ]
  },
  {
   "cell_type": "code",
   "execution_count": 2,
   "metadata": {
    "collapsed": true
   },
   "outputs": [],
   "source": [
    "# Create a DAG\n",
    "graph = CausalDAG()\n",
    "\n",
    "graph.add_edge('A', 'T')\n",
    "graph.add_edge('A', 'C')\n",
    "graph.add_edge('B', 'C')\n",
    "graph.add_edge('B', 'D')\n",
    "graph.add_edge('C', 'T')\n",
    "graph.add_edge('C', 'Y')\n",
    "graph.add_edge('D', 'Y')\n",
    "graph.add_edge('E', 'Y')\n",
    "graph.add_edge('T', 'E')"
   ]
  },
  {
   "cell_type": "code",
   "execution_count": 3,
   "metadata": {
    "collapsed": false
   },
   "outputs": [
    {
     "data": {
      "text/plain": [
       "[('B', 'C'),\n",
       " ('C', 'D'),\n",
       " ('C', 'A'),\n",
       " ('B', 'C', 'D'),\n",
       " ('B', 'C', 'A'),\n",
       " ('C', 'D', 'A'),\n",
       " ('B', 'C', 'D', 'A')]"
      ]
     },
     "execution_count": 3,
     "metadata": {},
     "output_type": "execute_result"
    }
   ],
   "source": [
    "# Get the sets of variables that satisfy the backdoor criterion for the effect of T on Y\n",
    "graph.backdoor_criterion('T', 'Y')"
   ]
  }
 ],
 "metadata": {
  "anaconda-cloud": {},
  "kernelspec": {
   "display_name": "Python [Root]",
   "language": "python",
   "name": "Python [Root]"
  },
  "language_info": {
   "codemirror_mode": {
    "name": "ipython",
    "version": 3
   },
   "file_extension": ".py",
   "mimetype": "text/x-python",
   "name": "python",
   "nbconvert_exporter": "python",
   "pygments_lexer": "ipython3",
   "version": "3.5.2"
  }
 },
 "nbformat": 4,
 "nbformat_minor": 0
}
