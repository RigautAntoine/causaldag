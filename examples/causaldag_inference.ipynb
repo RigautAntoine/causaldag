{
 "cells": [
  {
   "cell_type": "code",
   "execution_count": 6,
   "metadata": {
    "collapsed": false
   },
   "outputs": [],
   "source": [
    "#author:RigautAntoine\n",
    "import numpy as np\n",
    "import pandas as pd\n",
    "\n",
    "from causaldag import IC_star\n",
    "from causaldag import RobustLinearTest"
   ]
  },
  {
   "cell_type": "markdown",
   "metadata": {},
   "source": [
    "## Problem 1"
   ]
  },
  {
   "cell_type": "code",
   "execution_count": 2,
   "metadata": {
    "collapsed": false
   },
   "outputs": [],
   "source": [
    "# Create some sample data\n",
    "SIZE = 2000\n",
    "x1 = np.random.normal(size=SIZE)\n",
    "x2 = x1 + np.random.normal(size=SIZE)\n",
    "x3 = x1 + np.random.normal(size=SIZE)\n",
    "x4 = x2 + x3 + np.random.normal(size=SIZE)\n",
    "x5 = x4 + np.random.normal(size=SIZE)\n",
    "\n",
    "# load the data into a dataframe:\n",
    "X = pd.DataFrame({'x1' : x1, 'x2' : x2, 'x3' : x3, 'x4' : x4, 'x5' : x5})"
   ]
  },
  {
   "cell_type": "code",
   "execution_count": 3,
   "metadata": {
    "collapsed": false
   },
   "outputs": [
    {
     "data": {
      "text/html": [
       "<div>\n",
       "<table border=\"1\" class=\"dataframe\">\n",
       "  <thead>\n",
       "    <tr style=\"text-align: right;\">\n",
       "      <th></th>\n",
       "      <th>x1</th>\n",
       "      <th>x2</th>\n",
       "      <th>x3</th>\n",
       "      <th>x4</th>\n",
       "      <th>x5</th>\n",
       "    </tr>\n",
       "  </thead>\n",
       "  <tbody>\n",
       "    <tr>\n",
       "      <th>0</th>\n",
       "      <td>0.646503</td>\n",
       "      <td>-1.690953</td>\n",
       "      <td>-0.082275</td>\n",
       "      <td>-0.019537</td>\n",
       "      <td>-0.864633</td>\n",
       "    </tr>\n",
       "    <tr>\n",
       "      <th>1</th>\n",
       "      <td>-0.976064</td>\n",
       "      <td>-0.258844</td>\n",
       "      <td>-1.697410</td>\n",
       "      <td>-1.791004</td>\n",
       "      <td>-0.560698</td>\n",
       "    </tr>\n",
       "    <tr>\n",
       "      <th>2</th>\n",
       "      <td>1.638196</td>\n",
       "      <td>2.341920</td>\n",
       "      <td>-0.639521</td>\n",
       "      <td>2.612509</td>\n",
       "      <td>2.072149</td>\n",
       "    </tr>\n",
       "    <tr>\n",
       "      <th>3</th>\n",
       "      <td>-0.579830</td>\n",
       "      <td>-1.927141</td>\n",
       "      <td>1.106502</td>\n",
       "      <td>-0.541834</td>\n",
       "      <td>-0.048215</td>\n",
       "    </tr>\n",
       "    <tr>\n",
       "      <th>4</th>\n",
       "      <td>-0.536058</td>\n",
       "      <td>-0.082131</td>\n",
       "      <td>1.437158</td>\n",
       "      <td>2.180584</td>\n",
       "      <td>1.031938</td>\n",
       "    </tr>\n",
       "  </tbody>\n",
       "</table>\n",
       "</div>"
      ],
      "text/plain": [
       "         x1        x2        x3        x4        x5\n",
       "0  0.646503 -1.690953 -0.082275 -0.019537 -0.864633\n",
       "1 -0.976064 -0.258844 -1.697410 -1.791004 -0.560698\n",
       "2  1.638196  2.341920 -0.639521  2.612509  2.072149\n",
       "3 -0.579830 -1.927141  1.106502 -0.541834 -0.048215\n",
       "4 -0.536058 -0.082131  1.437158  2.180584  1.031938"
      ]
     },
     "execution_count": 3,
     "metadata": {},
     "output_type": "execute_result"
    }
   ],
   "source": [
    "X.head()"
   ]
  },
  {
   "cell_type": "code",
   "execution_count": 4,
   "metadata": {
    "collapsed": false
   },
   "outputs": [],
   "source": [
    "ic = IC_star(data=X, independence_test=RobustLinearTest())"
   ]
  },
  {
   "cell_type": "code",
   "execution_count": 5,
   "metadata": {
    "collapsed": false
   },
   "outputs": [
    {
     "name": "stdout",
     "output_type": "stream",
     "text": [
      "x5 to x4, directed at x5\n",
      "x2 to x4, directed at x4\n",
      "x2 to x1, directed at None\n",
      "x4 to x3, directed at x4\n",
      "x1 to x3, directed at None\n",
      "\n"
     ]
    }
   ],
   "source": [
    "print(ic.graph)"
   ]
  },
  {
   "cell_type": "markdown",
   "metadata": {},
   "source": [
    "## Problem 2"
   ]
  },
  {
   "cell_type": "code",
   "execution_count": 7,
   "metadata": {
    "collapsed": false
   },
   "outputs": [],
   "source": [
    "# Create some sample data\n",
    "SIZE = 2000\n",
    "x1 = np.random.normal(size=SIZE)\n",
    "x2 = x1 + np.random.normal(size=SIZE)\n",
    "x3 = x1 + np.random.normal(size=SIZE)\n",
    "x6 = np.random.normal(size=SIZE)\n",
    "x4 = x2 + x3 + x6 + np.random.normal(size=SIZE)\n",
    "x5 = x6 + np.random.normal(size=SIZE)\n",
    "\n",
    "# load the data into a dataframe:\n",
    "X = pd.DataFrame({'x1' : x1, 'x2' : x2, 'x3' : x3, 'x4' : x4, 'x5' : x5})"
   ]
  },
  {
   "cell_type": "code",
   "execution_count": 8,
   "metadata": {
    "collapsed": false
   },
   "outputs": [],
   "source": [
    "ic = IC_star(data=X, independence_test=RobustLinearTest())"
   ]
  },
  {
   "cell_type": "code",
   "execution_count": 10,
   "metadata": {
    "collapsed": false
   },
   "outputs": [
    {
     "name": "stdout",
     "output_type": "stream",
     "text": [
      "x5 to x4, directed at x4\n",
      "x2 to x4, directed at x4\n",
      "x2 to x1, directed at None\n",
      "x4 to x3, directed at x4\n",
      "x1 to x3, directed at None\n",
      "\n"
     ]
    }
   ],
   "source": [
    "print(ic.graph)"
   ]
  }
 ],
 "metadata": {
  "anaconda-cloud": {},
  "kernelspec": {
   "display_name": "Python [anaconda3]",
   "language": "python",
   "name": "Python [anaconda3]"
  },
  "language_info": {
   "codemirror_mode": {
    "name": "ipython",
    "version": 3
   },
   "file_extension": ".py",
   "mimetype": "text/x-python",
   "name": "python",
   "nbconvert_exporter": "python",
   "pygments_lexer": "ipython3",
   "version": "3.5.2"
  }
 },
 "nbformat": 4,
 "nbformat_minor": 0
}
