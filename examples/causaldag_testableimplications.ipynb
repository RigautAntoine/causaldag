{
 "cells": [
  {
   "cell_type": "code",
   "execution_count": 9,
   "metadata": {
    "collapsed": false
   },
   "outputs": [],
   "source": [
    "from causaldag import CausalDAG, RobustLinearTest, Implications\n",
    "import numpy as np\n",
    "import pandas as pd"
   ]
  },
  {
   "cell_type": "code",
   "execution_count": 2,
   "metadata": {
    "collapsed": false
   },
   "outputs": [],
   "source": [
    "# generate some toy data:\n",
    "SIZE = 2000\n",
    "x = np.random.normal(size=SIZE)\n",
    "u = np.random.normal(size=SIZE)\n",
    "z2 = np.random.normal(size=SIZE)\n",
    "z1 = x + u + z2 + np.random.normal(size=SIZE)\n",
    "z3 = u + z2 + np.random.normal(size=SIZE)\n",
    "y = z3 + z2 + np.random.normal(size=SIZE)\n",
    "\n",
    "X = pd.DataFrame({'X' : x, 'U': u, 'Z2': z2, 'Z1': z1, 'Z3': z3, 'Y': y })"
   ]
  },
  {
   "cell_type": "code",
   "execution_count": 4,
   "metadata": {
    "collapsed": false
   },
   "outputs": [],
   "source": [
    "# Create the Causal Diagram\n",
    "graph = CausalDAG()\n",
    "\n",
    "graph.add_edge('X', 'Z1')\n",
    "graph.add_edge('U', 'Z1')\n",
    "graph.add_edge('Z2', 'Z1')\n",
    "graph.add_edge('U', 'Z3')\n",
    "graph.add_edge('Z2', 'Z3')\n",
    "graph.add_edge('Z3', 'Y')\n",
    "graph.add_edge('Z2', 'Y')"
   ]
  },
  {
   "cell_type": "code",
   "execution_count": 5,
   "metadata": {
    "collapsed": false
   },
   "outputs": [],
   "source": [
    "# Find the testable implications of the causal DAG and test those\n",
    "test = RobustLinearTest(0.05)\n",
    "\n",
    "validation = Implications(graph = graph, data = X, independence_test = test)"
   ]
  },
  {
   "cell_type": "code",
   "execution_count": 7,
   "metadata": {
    "collapsed": false
   },
   "outputs": [
    {
     "data": {
      "text/plain": [
       "[('Z2', 'Z3', ['U', 'Y'], False),\n",
       " ('Z2', 'Z3', ['X', 'U', 'Y'], False),\n",
       " ('Z2', 'Z3', ['U', 'Z1', 'Y'], False),\n",
       " ('Z2', 'Z3', ['X', 'U', 'Z1', 'Y'], False),\n",
       " ('X', 'Z3', ['U', 'Z1', 'Y'], False),\n",
       " ('Z3', 'Z1', ['U', 'Y'], False),\n",
       " ('Z3', 'Z1', ['X', 'U', 'Y'], False),\n",
       " ('U', 'Y', ['X', 'Z1'], False)]"
      ]
     },
     "execution_count": 7,
     "metadata": {},
     "output_type": "execute_result"
    }
   ],
   "source": [
    "# Weak contradictions: DAG posited dependance but independence was found\n",
    "validation.weak_contradictions"
   ]
  },
  {
   "cell_type": "code",
   "execution_count": 8,
   "metadata": {
    "collapsed": false
   },
   "outputs": [
    {
     "data": {
      "text/plain": [
       "[]"
      ]
     },
     "execution_count": 8,
     "metadata": {},
     "output_type": "execute_result"
    }
   ],
   "source": [
    "# Strong contradictions: DAG posited independance but dependence was found\n",
    "validation.strong_contradictions"
   ]
  },
  {
   "cell_type": "code",
   "execution_count": null,
   "metadata": {
    "collapsed": true
   },
   "outputs": [],
   "source": []
  }
 ],
 "metadata": {
  "anaconda-cloud": {},
  "kernelspec": {
   "display_name": "Python [anaconda3]",
   "language": "python",
   "name": "Python [anaconda3]"
  },
  "language_info": {
   "codemirror_mode": {
    "name": "ipython",
    "version": 3
   },
   "file_extension": ".py",
   "mimetype": "text/x-python",
   "name": "python",
   "nbconvert_exporter": "python",
   "pygments_lexer": "ipython3",
   "version": "3.5.2"
  }
 },
 "nbformat": 4,
 "nbformat_minor": 0
}
